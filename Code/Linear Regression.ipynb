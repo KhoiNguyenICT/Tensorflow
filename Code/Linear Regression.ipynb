{
 "cells": [
  {
   "cell_type": "markdown",
   "metadata": {},
   "source": [
    "### Bài toán định giá giá nhà (House Price Problem)"
   ]
  },
  {
   "cell_type": "markdown",
   "metadata": {},
   "source": [
    "***Các bước thực hiện 1 bài toán***"
   ]
  },
  {
   "cell_type": "markdown",
   "metadata": {},
   "source": [
    "1. Understanding data - Hiểu về dữ liệu\n",
    "2. Preprocessing - Tiền xử lý dữ liệu: \n",
    "    - Remove outliers: Loại bỏ bất thường các dữ liệu sai khác quá nhiều\n",
    "    - Missing data process: Xử lý các dữ liệu bị thiếu\n",
    "    - Sampling: Cân bằng lại dữ liệu\n",
    "3. Features engineering - Trích chọn ra các đặc trưng của dữ liệu\n",
    "4. Selection algorithums - Lựa chọn thuật toán\n",
    "5. Training - Huấn luyện thuật toán\n",
    "6. Fine-tuning - Tinh chỉnh mô hình\n",
    "7. Evaluation - Đánh giá tinh chỉnh mô hình\n",
    "8. Deployment"
   ]
  },
  {
   "cell_type": "code",
   "execution_count": 1,
   "metadata": {},
   "outputs": [],
   "source": [
    "import tensorflow as tf"
   ]
  },
  {
   "cell_type": "code",
   "execution_count": 2,
   "metadata": {},
   "outputs": [],
   "source": [
    "import numpy as np"
   ]
  },
  {
   "cell_type": "code",
   "execution_count": 4,
   "metadata": {},
   "outputs": [],
   "source": [
    "# x = [1, 2, 3, 4] <=> [x0, x1, x2, x3]\n",
    "# y = [2] <=> w_init + w_0*x_0 + ... + w_3*x_3\n",
    "# Việc cần làm là tìm các hệ số w_init w_0 w_1 w_2 w_3\n",
    "\n",
    "# Tạo dữ liệu gôm 10000 dòng và 2 cột\n",
    "x_data = np.random.random((10000, 2)) \n",
    "\n",
    "# Sau khi có x_data phải sinh hệ số w_0 w_1 ...\n",
    "sample_weights = np.array([3, 4]).reshape(2, ) \n",
    "# Khởi tạo 1 mảng gồm 1 dòng và 2 cột. Hàm reshape có tác dụng chuyển mảng \n",
    "# vừa tạo thành ma trận gồm 2 cột\n",
    "\n",
    "# Khởi tạo y_data\n",
    "y_data = np.matmul(x_data, sample_weights) # Hàm nhân 2 ma trận"
   ]
  },
  {
   "cell_type": "code",
   "execution_count": 9,
   "metadata": {},
   "outputs": [
    {
     "data": {
      "text/plain": [
       "array([0.68101369, 0.04919996])"
      ]
     },
     "execution_count": 9,
     "metadata": {},
     "output_type": "execute_result"
    }
   ],
   "source": [
    "x_data[0]"
   ]
  },
  {
   "cell_type": "code",
   "execution_count": 10,
   "metadata": {},
   "outputs": [
    {
     "data": {
      "text/plain": [
       "2.2398409088872455"
      ]
     },
     "execution_count": 10,
     "metadata": {},
     "output_type": "execute_result"
    }
   ],
   "source": [
    "y_data[0] # Bằng 0.68101369 * 3 + 4 * 0.04919996"
   ]
  },
  {
   "cell_type": "markdown",
   "metadata": {},
   "source": [
    "***Note*** Ở đây ta đang nhân với một số fix cứng là 3 nhân 4 thì mô hình sẽ xảy ra hiện tượng là overfeeting (Hàm không có tính ngẫu nhiên)"
   ]
  },
  {
   "cell_type": "code",
   "execution_count": 11,
   "metadata": {},
   "outputs": [],
   "source": [
    "# Xấp xỉ hóa y để dữ liệu mang tính ngẫu nhiên\n",
    "y_data = np.add(y_data, np.random.uniform(-0.5, 0.5))\n",
    "# Cộng nó với 1 đại lượng random trong khoản -0.5 đến 0.5"
   ]
  },
  {
   "cell_type": "code",
   "execution_count": 12,
   "metadata": {},
   "outputs": [
    {
     "data": {
      "text/plain": [
       "1.8290594035222834"
      ]
     },
     "execution_count": 12,
     "metadata": {},
     "output_type": "execute_result"
    }
   ],
   "source": [
    "y_data[0]"
   ]
  },
  {
   "cell_type": "code",
   "execution_count": 13,
   "metadata": {},
   "outputs": [
    {
     "data": {
      "text/plain": [
       "(10000,)"
      ]
     },
     "execution_count": 13,
     "metadata": {},
     "output_type": "execute_result"
    }
   ],
   "source": [
    "y_data.shape"
   ]
  },
  {
   "cell_type": "code",
   "execution_count": 14,
   "metadata": {},
   "outputs": [
    {
     "data": {
      "text/plain": [
       "(10000, 2)"
      ]
     },
     "execution_count": 14,
     "metadata": {},
     "output_type": "execute_result"
    }
   ],
   "source": [
    "x_data.shape"
   ]
  },
  {
   "cell_type": "code",
   "execution_count": 15,
   "metadata": {},
   "outputs": [],
   "source": [
    "# y_data cần phải reshape thành ma trận 10000 * 1\n",
    "y_data = y_data.reshape(len(y_data), 1)"
   ]
  },
  {
   "cell_type": "code",
   "execution_count": 16,
   "metadata": {},
   "outputs": [
    {
     "data": {
      "text/plain": [
       "(10000, 1)"
      ]
     },
     "execution_count": 16,
     "metadata": {},
     "output_type": "execute_result"
    }
   ],
   "source": [
    "y_data.shape"
   ]
  },
  {
   "cell_type": "code",
   "execution_count": 17,
   "metadata": {},
   "outputs": [
    {
     "data": {
      "text/plain": [
       "array([[0.68101369, 0.04919996],\n",
       "       [0.26829642, 0.05628379],\n",
       "       [0.12118309, 0.47435351],\n",
       "       ...,\n",
       "       [0.19538334, 0.59463397],\n",
       "       [0.17977397, 0.44011129],\n",
       "       [0.04822305, 0.92390707]])"
      ]
     },
     "execution_count": 17,
     "metadata": {},
     "output_type": "execute_result"
    }
   ],
   "source": [
    "# Đến bước này ta đã có tập dữ liệu fake hoàn chỉnh\n",
    "x_data # Mẫu dữ liệu từng dòng tương đương : \n",
    "# [Khoảng cách đến trung tâm thành phố, diện tích sử dụng]"
   ]
  },
  {
   "cell_type": "code",
   "execution_count": 19,
   "metadata": {},
   "outputs": [
    {
     "data": {
      "text/plain": [
       "array([[1.8290594 ],\n",
       "       [0.6192429 ],\n",
       "       [1.85018178],\n",
       "       ...,\n",
       "       [2.55390439],\n",
       "       [1.88898554],\n",
       "       [3.42951593]])"
      ]
     },
     "execution_count": 19,
     "metadata": {},
     "output_type": "execute_result"
    }
   ],
   "source": [
    "y_data\n",
    "# Mẫu dữ liệu từng dòng tương đương : [Giá nhà đổi ra việt nam đồng]"
   ]
  },
  {
   "cell_type": "markdown",
   "metadata": {},
   "source": [
    "***Note*** Tất cả data cần tách ra thành 2 tập là tập tranning và tập testing"
   ]
  },
  {
   "cell_type": "code",
   "execution_count": 24,
   "metadata": {},
   "outputs": [],
   "source": [
    "from sklearn.model_selection import train_test_split\n",
    "# Cài đặt thư viện \"sklearn\" : pip install scipy & pip install -U scikit-learn"
   ]
  },
  {
   "cell_type": "code",
   "execution_count": 27,
   "metadata": {},
   "outputs": [],
   "source": [
    "x_train, x_test, y_train, y_test = train_test_split(x_data, y_data, test_size = 0.2, random_state = 42)\n",
    "# Mục đích của hàm train_test_split là tách tập dữ liệu thành 2 phần\n",
    "# - Phần traning và phần testing\n",
    "# - Phần testing để riêng ko đụng để test lại dữ liệu\n",
    "# Tỷ lệ traing là 80% và tỷ lệ testing là 20%"
   ]
  },
  {
   "cell_type": "code",
   "execution_count": 28,
   "metadata": {},
   "outputs": [
    {
     "data": {
      "text/plain": [
       "(8000, 2)"
      ]
     },
     "execution_count": 28,
     "metadata": {},
     "output_type": "execute_result"
    }
   ],
   "source": [
    "x_train.shape"
   ]
  },
  {
   "cell_type": "code",
   "execution_count": 29,
   "metadata": {},
   "outputs": [
    {
     "data": {
      "text/plain": [
       "(8000, 1)"
      ]
     },
     "execution_count": 29,
     "metadata": {},
     "output_type": "execute_result"
    }
   ],
   "source": [
    "y_train.shape"
   ]
  },
  {
   "cell_type": "markdown",
   "metadata": {},
   "source": [
    "***Cài đặt thuật toán***"
   ]
  },
  {
   "cell_type": "code",
   "execution_count": 30,
   "metadata": {},
   "outputs": [
    {
     "name": "stdout",
     "output_type": "stream",
     "text": [
      "2\n"
     ]
    }
   ],
   "source": [
    "n_dim = x_train.shape[1]\n",
    "print(n_dim)"
   ]
  },
  {
   "cell_type": "code",
   "execution_count": 31,
   "metadata": {},
   "outputs": [],
   "source": [
    "#Truyền dữ liệu vào placeholder\n",
    "x = tf.placeholder(tf.float32, [None, n_dim])\n",
    "y = tf.placeholder(tf.float32, [None, 1])"
   ]
  },
  {
   "cell_type": "code",
   "execution_count": 33,
   "metadata": {},
   "outputs": [],
   "source": [
    "# Các hệ số có thể dùng để traning\n",
    "w = tf.Variable(tf.ones([n_dim, 1])) # Gía trị khởi tạo toàn giá trị 1\n",
    "b = tf.Variable(np.random.randn(), dtype=tf.float32)"
   ]
  },
  {
   "cell_type": "code",
   "execution_count": 34,
   "metadata": {},
   "outputs": [],
   "source": [
    "pred = tf.add(tf.matmul(x, w), b) # Hàm dự đoán predict"
   ]
  },
  {
   "cell_type": "code",
   "execution_count": 37,
   "metadata": {},
   "outputs": [],
   "source": [
    "loss = tf.reduce_mean(tf.square(pred - y)) # Lấy theo giá trị trung bình (Hàm mất mát)\n",
    "learning_rate = 0.01 #Tốc độ học\n",
    "optimizer = tf.train.GradientDescentOptimizer(learning_rate=learning_rate).minimize(loss) #Cực tiểu hóa hàm mất mát"
   ]
  },
  {
   "cell_type": "code",
   "execution_count": 38,
   "metadata": {},
   "outputs": [],
   "source": [
    "init = tf.global_variables_initializer()"
   ]
  },
  {
   "cell_type": "code",
   "execution_count": 39,
   "metadata": {},
   "outputs": [],
   "source": [
    "session = tf.Session()"
   ]
  },
  {
   "cell_type": "code",
   "execution_count": 55,
   "metadata": {},
   "outputs": [
    {
     "name": "stdout",
     "output_type": "stream",
     "text": [
      "Epoch 0 Test loss = 5.324346542358398\n",
      "Epoch 500 Test loss = 0.1773737221956253\n",
      "Epoch 1000 Test loss = 0.057760342955589294\n",
      "Epoch 1500 Test loss = 0.018957942724227905\n",
      "Epoch 2000 Test loss = 0.006252152379602194\n",
      "Epoch 2500 Test loss = 0.002067848574370146\n",
      "Epoch 3000 Test loss = 0.0006851011421531439\n",
      "Epoch 3500 Test loss = 0.00022720835113432258\n",
      "Epoch 4000 Test loss = 7.540109072579071e-05\n",
      "Epoch 4500 Test loss = 2.5030802135006525e-05\n",
      "Training finished\n"
     ]
    }
   ],
   "source": [
    "# Traning\n",
    "session.run(init)\n",
    "epochs = 5000\n",
    "\n",
    "lost_history = []\n",
    "\n",
    "for epochs in range(epochs):\n",
    "    session.run(optimizer, feed_dict={x: x_train, y: y_train})\n",
    "    \n",
    "    test_lost = session.run(loss, feed_dict={x : x_test, y : y_test})\n",
    "    \n",
    "    lost_history.append(test_lost)\n",
    "    \n",
    "    if epochs % 500 == 0:\n",
    "        print(\"Epoch {} Test loss = {}\".format(epochs, test_lost))\n",
    "        \n",
    "print(\"Training finished\")"
   ]
  },
  {
   "cell_type": "code",
   "execution_count": 56,
   "metadata": {},
   "outputs": [
    {
     "data": {
      "text/plain": [
       "array([[2.9930634],\n",
       "       [3.992907 ]], dtype=float32)"
      ]
     },
     "execution_count": 56,
     "metadata": {},
     "output_type": "execute_result"
    }
   ],
   "source": [
    "session.run(w)"
   ]
  },
  {
   "cell_type": "code",
   "execution_count": 58,
   "metadata": {},
   "outputs": [
    {
     "data": {
      "text/plain": [
       "-0.40339297"
      ]
     },
     "execution_count": 58,
     "metadata": {},
     "output_type": "execute_result"
    }
   ],
   "source": [
    "session.run(b)"
   ]
  },
  {
   "cell_type": "code",
   "execution_count": 59,
   "metadata": {},
   "outputs": [],
   "source": [
    "import matplotlib.pyplot as plt"
   ]
  },
  {
   "cell_type": "code",
   "execution_count": 60,
   "metadata": {},
   "outputs": [
    {
     "data": {
      "image/png": "[encoded data removed]",
      "text/plain": [
       "<Figure size 432x288 with 1 Axes>"
      ]
     },
     "metadata": {
      "needs_background": "light"
     },
     "output_type": "display_data"
    }
   ],
   "source": [
    "plt.plot(range(len(lost_history)), lost_history)\n",
    "plt.axis([0, epochs, 0, np.max(lost_history)])\n",
    "plt.show()"
   ]
  },
  {
   "cell_type": "code",
   "execution_count": 63,
   "metadata": {},
   "outputs": [],
   "source": [
    "pred_y = session.run(pred, feed_dict={\n",
    "    x: [[3,10]]\n",
    "})"
   ]
  },
  {
   "cell_type": "code",
   "execution_count": 64,
   "metadata": {},
   "outputs": [
    {
     "name": "stdout",
     "output_type": "stream",
     "text": [
      "[[48.504868]]\n"
     ]
    }
   ],
   "source": [
    "print(pred_y)"
   ]
  },
  {
   "cell_type": "markdown",
   "metadata": {},
   "source": [
    "***Note*** \n",
    "Nhược điểm của thuật toán chính xác chưa thể cao\n",
    "<br>\n",
    "Đang giả định dữ liệu liên kết với nhau theo dạng tuyến tính đôi khi các dữ liệu liên kết vs nhau theo dạng phi tuyến\n",
    "<br>\n",
    "Thuật toán rất nhạy cảm với nhiễu"
   ]
  },
  {
   "cell_type": "code",
   "execution_count": null,
   "metadata": {},
   "outputs": [],
   "source": []
  }
 ],
 "metadata": {
  "kernelspec": {
   "display_name": "Python 3",
   "language": "python",
   "name": "python3"
  },
  "language_info": {
   "codemirror_mode": {
    "name": "ipython",
    "version": 3
   },
   "file_extension": ".py",
   "mimetype": "text/x-python",
   "name": "python",
   "nbconvert_exporter": "python",
   "pygments_lexer": "ipython3",
   "version": "3.6.6"
  }
 },
 "nbformat": 4,
 "nbformat_minor": 2
}
